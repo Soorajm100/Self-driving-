{
 "cells": [
  {
   "cell_type": "code",
   "execution_count": 18,
   "id": "99d49794",
   "metadata": {},
   "outputs": [],
   "source": [
    "\n",
    "\n",
    "import os\n",
    "from itertools import islice\n",
    "from  scipy import pi\n",
    "import numpy as np"
   ]
  },
  {
   "cell_type": "code",
   "execution_count": 19,
   "id": "47735a1c",
   "metadata": {},
   "outputs": [],
   "source": [
    "DATA_FOLDER = './driving_dataset/'\n",
    "TRAIN_FILE  = os.path.join(DATA_FOLDER , 'data.txt')\n",
    "\n",
    "split = 0.8\n",
    "X =[]\n",
    "y = []\n",
    "LIMIT = None\n"
   ]
  },
  {
   "cell_type": "code",
   "execution_count": 20,
   "id": "caeb2ea1",
   "metadata": {},
   "outputs": [
    {
     "data": {
      "text/plain": [
       "'./driving_dataset/data.txt'"
      ]
     },
     "execution_count": 20,
     "metadata": {},
     "output_type": "execute_result"
    }
   ],
   "source": [
    "TRAIN_FILE"
   ]
  },
  {
   "cell_type": "code",
   "execution_count": 21,
   "id": "347b217c",
   "metadata": {},
   "outputs": [
    {
     "name": "stdout",
     "output_type": "stream",
     "text": [
      "Successful conversion\n"
     ]
    }
   ],
   "source": [
    "\n",
    "with open(TRAIN_FILE) as fp :\n",
    "    for  line in islice(fp, LIMIT):\n",
    "        path , angle = line.strip().split()\n",
    "        full_path = os.path.join(DATA_FOLDER ,path)\n",
    "        X.append(full_path)\n",
    "        y.append(float(angle)*pi/100)\n",
    "y = np.array(y)\n",
    "\n",
    "print(\"Successful conversion\")\n",
    "    \n",
    "    \n"
   ]
  },
  {
   "cell_type": "code",
   "execution_count": 22,
   "id": "98c1cebd",
   "metadata": {},
   "outputs": [],
   "source": [
    "##spliting the data \n",
    " \n",
    "\n",
    "split_index = int(len(y)*0.8)\n"
   ]
  },
  {
   "cell_type": "code",
   "execution_count": 23,
   "id": "ed519ca1",
   "metadata": {},
   "outputs": [],
   "source": [
    "y_train = y[:split_index]"
   ]
  },
  {
   "cell_type": "code",
   "execution_count": 24,
   "id": "119a0b30",
   "metadata": {},
   "outputs": [],
   "source": [
    "y_test = y[split_index :]"
   ]
  },
  {
   "cell_type": "code",
   "execution_count": 27,
   "id": "5ad54610",
   "metadata": {},
   "outputs": [],
   "source": [
    "import   matplotlib.pyplot as plt \n"
   ]
  },
  {
   "cell_type": "code",
   "execution_count": 29,
   "id": "dc408802",
   "metadata": {},
   "outputs": [
    {
     "data": {
      "text/plain": [
       "(array([5.200e+01, 1.600e+01, 2.900e+01, 1.270e+02, 9.400e+01, 1.770e+02,\n",
       "        4.920e+02, 2.550e+02, 6.840e+02, 9.270e+02, 5.439e+03, 1.660e+04,\n",
       "        6.513e+03, 2.538e+03, 7.510e+02, 5.250e+02, 3.090e+02, 1.640e+02,\n",
       "        1.400e+02, 7.600e+01, 2.400e+01, 2.700e+01, 3.300e+01, 4.300e+01,\n",
       "        5.100e+01, 4.700e+01, 5.400e+01, 3.600e+01, 3.800e+01, 1.400e+01,\n",
       "        8.000e+00, 1.000e+01, 1.000e+00, 2.000e+00, 2.000e+00, 2.000e+00,\n",
       "        2.000e+00, 1.000e+00, 0.000e+00, 2.000e+00, 1.000e+00, 1.000e+00,\n",
       "        2.000e+00, 1.000e+00, 2.000e+00, 2.000e+00, 2.000e+00, 1.000e+00,\n",
       "        2.000e+00, 5.000e+00]),\n",
       " array([-4.80255269, -4.39122396, -3.97989524, -3.56856651, -3.15723779,\n",
       "        -2.74590906, -2.33458033, -1.92325161, -1.51192288, -1.10059415,\n",
       "        -0.68926543, -0.2779367 ,  0.13339202,  0.54472075,  0.95604948,\n",
       "         1.3673782 ,  1.77870693,  2.19003565,  2.60136438,  3.01269311,\n",
       "         3.42402183,  3.83535056,  4.24667929,  4.65800801,  5.06933674,\n",
       "         5.48066546,  5.89199419,  6.30332292,  6.71465164,  7.12598037,\n",
       "         7.53730909,  7.94863782,  8.35996655,  8.77129527,  9.182624  ,\n",
       "         9.59395273, 10.00528145, 10.41661018, 10.8279389 , 11.23926763,\n",
       "        11.65059636, 12.06192508, 12.47325381, 12.88458253, 13.29591126,\n",
       "        13.70723999, 14.11856871, 14.52989744, 14.94122616, 15.35255489,\n",
       "        15.76388362]),\n",
       " [<matplotlib.patches.Polygon at 0x15496863b20>])"
      ]
     },
     "execution_count": 29,
     "metadata": {},
     "output_type": "execute_result"
    },
    {
     "data": {
      "image/png": "[encoded data removed]",
      "text/plain": [
       "<Figure size 432x288 with 1 Axes>"
      ]
     },
     "metadata": {
      "needs_background": "light"
     },
     "output_type": "display_data"
    }
   ],
   "source": [
    "plt.hist(y_train , bins = 50 , color = \"blue\" , histtype = \"step\")"
   ]
  },
  {
   "cell_type": "code",
   "execution_count": 32,
   "id": "0a6941ac",
   "metadata": {},
   "outputs": [
    {
     "data": {
      "text/plain": [
       "(array([  26.,   12.,   23.,   23.,   16.,   25.,    7.,    4.,    7.,\n",
       "           3.,    3.,    5.,    4.,    4.,    4.,    5.,    5.,   17.,\n",
       "          18.,   21.,   67.,   41.,   17.,   19.,   15.,   15.,   16.,\n",
       "          24.,   25.,  152.,  280.,  126.,  325.,  759., 2609.,  944.,\n",
       "        1806.,  727.,  245.,  258.,  132.,   30.,   20.,   53.,   75.,\n",
       "          46.,    6.,    4.,    5.,    9.]),\n",
       " array([-5.02434913, -4.87773728, -4.73112544, -4.58451359, -4.43790175,\n",
       "        -4.2912899 , -4.14467806, -3.99806621, -3.85145436, -3.70484252,\n",
       "        -3.55823067, -3.41161883, -3.26500698, -3.11839513, -2.97178329,\n",
       "        -2.82517144, -2.6785596 , -2.53194775, -2.3853359 , -2.23872406,\n",
       "        -2.09211221, -1.94550037, -1.79888852, -1.65227667, -1.50566483,\n",
       "        -1.35905298, -1.21244114, -1.06582929, -0.91921744, -0.7726056 ,\n",
       "        -0.62599375, -0.47938191, -0.33277006, -0.18615821, -0.03954637,\n",
       "         0.10706548,  0.25367732,  0.40028917,  0.54690102,  0.69351286,\n",
       "         0.84012471,  0.98673655,  1.1333484 ,  1.27996025,  1.42657209,\n",
       "         1.57318394,  1.71979578,  1.86640763,  2.01301948,  2.15963132,\n",
       "         2.30624317]),\n",
       " [<matplotlib.patches.Polygon at 0x154969b7190>])"
      ]
     },
     "execution_count": 32,
     "metadata": {},
     "output_type": "execute_result"
    },
    {
     "data": {
      "image/png": "[encoded data removed]",
      "text/plain": [
       "<Figure size 432x288 with 1 Axes>"
      ]
     },
     "metadata": {
      "needs_background": "light"
     },
     "output_type": "display_data"
    }
   ],
   "source": [
    "plt.hist(y_train , bins = 50 , color = \"blue\" , histtype = \"step\")\n",
    "plt.hist(y_test , bins = 50 , color = \"red\" , histtype = \"step\")"
   ]
  },
  {
   "cell_type": "code",
   "execution_count": 35,
   "id": "667fe67d",
   "metadata": {},
   "outputs": [],
   "source": [
    "y_train_mean = np.mean(y_train)"
   ]
  },
  {
   "cell_type": "code",
   "execution_count": 38,
   "id": "e8a4c140",
   "metadata": {},
   "outputs": [
    {
     "data": {
      "text/plain": [
       "0.6192510707709883"
      ]
     },
     "execution_count": 38,
     "metadata": {},
     "output_type": "execute_result"
    }
   ],
   "source": [
    "#assuming the predicted valur as mean value\n",
    "np.mean(np.square(y_test - y_train_mean))"
   ]
  },
  {
   "cell_type": "code",
   "execution_count": null,
   "id": "b744c7ad",
   "metadata": {},
   "outputs": [],
   "source": []
  },
  {
   "cell_type": "code",
   "execution_count": 39,
   "id": "22cc6884",
   "metadata": {},
   "outputs": [
    {
     "data": {
      "text/plain": [
       "0.6184869809073972"
      ]
     },
     "execution_count": 39,
     "metadata": {},
     "output_type": "execute_result"
    }
   ],
   "source": [
    "np.mean(np.square(y_test - 0))"
   ]
  },
  {
   "cell_type": "code",
   "execution_count": 40,
   "id": "1cda4c80",
   "metadata": {},
   "outputs": [],
   "source": [
    "#CNN CASE We predcit  the steering angle"
   ]
  },
  {
   "cell_type": "code",
   "execution_count": null,
   "id": "8527efbf",
   "metadata": {},
   "outputs": [],
   "source": []
  }
 ],
 "metadata": {
  "kernelspec": {
   "display_name": "Python 3 (ipykernel)",
   "language": "python",
   "name": "python3"
  },
  "language_info": {
   "codemirror_mode": {
    "name": "ipython",
    "version": 3
   },
   "file_extension": ".py",
   "mimetype": "text/x-python",
   "name": "python",
   "nbconvert_exporter": "python",
   "pygments_lexer": "ipython3",
   "version": "3.9.12"
  }
 },
 "nbformat": 4,
 "nbformat_minor": 5
}
